{
  "nbformat": 4,
  "nbformat_minor": 0,
  "metadata": {
    "colab": {
      "provenance": [],
      "authorship_tag": "ABX9TyOPyDJ2+Z0K8SJP95QuESvV",
      "include_colab_link": true
    },
    "kernelspec": {
      "name": "python3",
      "display_name": "Python 3"
    },
    "language_info": {
      "name": "python"
    }
  },
  "cells": [
    {
      "cell_type": "markdown",
      "metadata": {
        "id": "view-in-github",
        "colab_type": "text"
      },
      "source": [
        "<a href=\"https://colab.research.google.com/github/luke85924/TiBaMe_python/blob/main/1224_02.ipynb\" target=\"_parent\"><img src=\"https://colab.research.google.com/assets/colab-badge.svg\" alt=\"Open In Colab\"/></a>"
      ]
    },
    {
      "cell_type": "code",
      "execution_count": 5,
      "metadata": {
        "colab": {
          "base_uri": "https://localhost:8080/"
        },
        "id": "YmAR9vYZa_or",
        "outputId": "56f10a84-ac2e-4db1-d69a-56080960d8b3"
      },
      "outputs": [
        {
          "output_type": "stream",
          "name": "stdout",
          "text": [
            "請輸入你的體重:65.3\n",
            "請輸入你的身高:168.5\n",
            "你的體重是: 65.3\n",
            "你的身高是: 168.5\n",
            "你的bmi是: 22.999233945883116\n",
            "正常\n"
          ]
        }
      ],
      "source": [
        "# bmi = (weight(kg) / height(m)**2)\n",
        "weight = float(input(\"請輸入你的體重:\"))\n",
        "height = float(input(\"請輸入你的身高:\"))\n",
        "bmi = weight / (height / 100) ** 2\n",
        "print(\"你的體重是: \" + str(weight))\n",
        "print(\"你的身高是: \" + str(height))\n",
        "print(\"你的bmi是: \" + str(bmi))\n",
        "\n",
        "#IndentationError 縮排錯誤\n",
        "if bmi > 25:\n",
        "  print(\"過重\")\n",
        "  print(\"少吃多動\")\n",
        "else:\n",
        "  print(\"正常\")"
      ]
    },
    {
      "cell_type": "code",
      "source": [
        "#剪刀石頭布\n",
        "#!!!想永遠比寫更重要!!!\n",
        "import random\n",
        "\n",
        "my = int(input(\"請選擇要出甚麼: 0.剪刀, 1.石頭, 2.布:\"))\n",
        "com = random.randint(0, 2)\n",
        "trans = [\"剪刀\", \"石頭\", \"布\"]\n",
        "print(\"我出的:\", trans[my])\n",
        "print(\"電腦的:\", trans[com])\n",
        "\n",
        "if my == (com + 1) % 3:\n",
        "  print(\"WIN\")\n",
        "elif com == (my + 1) % 3:\n",
        "  print(\"LOSE\")\n",
        "else:\n",
        "  print(\"EVEN\")\n"
      ],
      "metadata": {
        "colab": {
          "base_uri": "https://localhost:8080/"
        },
        "id": "K3OeQUEkWVyG",
        "outputId": "811ce91b-1fd1-4096-e40e-d83496cada23"
      },
      "execution_count": 10,
      "outputs": [
        {
          "output_type": "stream",
          "name": "stdout",
          "text": [
            "請選擇要出甚麼: 0.剪刀, 1.石頭, 2.布:2\n",
            "我出的: 布\n",
            "電腦的: 布\n",
            "EVEN\n"
          ]
        }
      ]
    },
    {
      "cell_type": "code",
      "source": [
        "import random\n",
        "\n",
        "# my = int(input(\"0-5:\"))\n",
        "# com = random.randint(0, 5)\n",
        "my = 1\n",
        "com = 5\n",
        "trans = [\"剪刀(0)\", \"石頭(0)\", \"布(0)\",\n",
        "      \"剪刀(1)\", \"石頭(1)\", \"布(1)\"]\n",
        "print(\"我出的:\", trans[my])\n",
        "print(\"電腦的:\", trans[com])\n",
        "\n",
        "# 第一步:先確定他們是否同組\n",
        "# 0 // 3: 0\n",
        "# 1 // 3: 0\n",
        "# 2 // 3: 0\n",
        "# 3 // 3: 1\n",
        "# 4 // 3: 1\n",
        "# 5 // 3: 1\n",
        "# 6 // 3: 2\n",
        "# 取商: 分組 取餘: 循環\n",
        "mygroup = my // 3\n",
        "comgroup = com // 3\n",
        "if mygroup == comgroup:\n",
        "    # 情況1: my, com都是0~2(0~2)\n",
        "    # 情況2: my, com都是3~5(0~2)\n",
        "    # 如果是3~5 回到0~2(餘數)\n",
        "    if\n",
        "    elif\n",
        "    else\n",
        "else:\n",
        "    print(\"平手(不同組)\")"
      ],
      "metadata": {
        "id": "QKLxtqJzzm7f"
      },
      "execution_count": null,
      "outputs": []
    },
    {
      "cell_type": "code",
      "source": [
        "import random\n",
        "\n",
        "my = int(input(\"請輸入你要出的拳: 0.剪刀(0), 1.石頭(0), 2.布(0), 3.剪刀(1), 4.石頭(1), 5.布(1):\"))\n",
        "com = random.randint(0, 5)\n",
        "trans = [\"剪刀(0)\", \"石頭(0)\", \"布(0)\",\n",
        "      \"剪刀(1)\", \"石頭(1)\", \"布(1)\"]\n",
        "print(\"我出的:\", trans[my])\n",
        "print(\"電腦的:\", trans[com])\n",
        "\n",
        "mygroup = my // 3\n",
        "comgroup = com // 3\n",
        "\n",
        "if mygroup == comgroup:\n",
        "  if mygroup == 0:\n",
        "    #情況1: my, com都是0~2(0~2)\n",
        "    if my == (com + 1) % 3:\n",
        "      print(\"WIN\")\n",
        "    elif com == (my + 1) % 3:\n",
        "      print(\"LOSE\")\n",
        "    else:\n",
        "      print(\"平手(同組)\")\n",
        "  elif mygroup == 1:\n",
        "    # 情況2: my, com都是3~5(回歸0~2)\n",
        "    if (my - 3) == ((com - 3) + 1) % 3:\n",
        "      print(\"WIN\")\n",
        "    elif (com - 3) == ((my - 3) + 1) % 3:\n",
        "      print(\"LOSE\")\n",
        "    else:\n",
        "      print(\"平手(同組)\")\n",
        "\n",
        "else:\n",
        "  print(\"平手(不同組)\")"
      ],
      "metadata": {
        "colab": {
          "base_uri": "https://localhost:8080/"
        },
        "id": "LHtj65n62Pto",
        "outputId": "c31de28e-c132-46e4-b9df-7c7d79522272"
      },
      "execution_count": 14,
      "outputs": [
        {
          "output_type": "stream",
          "name": "stdout",
          "text": [
            "請輸入你要出的拳: 0.剪刀(0), 1.石頭(0), 2.布(0), 3.剪刀(1), 4.石頭(1), 5.布(1):5\n",
            "我出的: 布(1)\n",
            "電腦的: 石頭(1)\n",
            "WIN\n"
          ]
        }
      ]
    }
  ]
}