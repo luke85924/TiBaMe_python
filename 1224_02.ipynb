{
  "nbformat": 4,
  "nbformat_minor": 0,
  "metadata": {
    "colab": {
      "provenance": [],
      "authorship_tag": "ABX9TyMSMp8XmIhW7WVR79sWBaZU",
      "include_colab_link": true
    },
    "kernelspec": {
      "name": "python3",
      "display_name": "Python 3"
    },
    "language_info": {
      "name": "python"
    }
  },
  "cells": [
    {
      "cell_type": "markdown",
      "metadata": {
        "id": "view-in-github",
        "colab_type": "text"
      },
      "source": [
        "<a href=\"https://colab.research.google.com/github/luke85924/TiBaMe_python/blob/main/1224_02.ipynb\" target=\"_parent\"><img src=\"https://colab.research.google.com/assets/colab-badge.svg\" alt=\"Open In Colab\"/></a>"
      ]
    },
    {
      "cell_type": "code",
      "execution_count": 3,
      "metadata": {
        "colab": {
          "base_uri": "https://localhost:8080/"
        },
        "id": "YmAR9vYZa_or",
        "outputId": "9789e89b-65e4-4c0d-937c-e357487de7a9"
      },
      "outputs": [
        {
          "output_type": "stream",
          "name": "stdout",
          "text": [
            "你的體重是: 65\n",
            "你的身高是: 168\n",
            "你的bmi是: 23.030045351473927\n"
          ]
        }
      ],
      "source": [
        "# bmi = (weight(kg) / height(m)**2)\n",
        "weight = 65\n",
        "height = 168\n",
        "bmi = weight / (height / 100) ** 2\n",
        "print(\"你的體重是: \" + str(weight))\n",
        "print(\"你的身高是: \" + str(height))\n",
        "print(\"你的bmi是: \" + str(bmi))"
      ]
    }
  ]
}